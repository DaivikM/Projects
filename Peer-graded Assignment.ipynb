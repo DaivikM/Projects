{
 "cells": [
  {
   "cell_type": "markdown",
   "id": "8d6ca2fe",
   "metadata": {},
   "source": [
    "<center>\n",
    "    <img src=\"https://s3-api.us-geo.objectstorage.softlayer.net/cf-courses-data/CognitiveClass/Logos/organization_logo/organization_logo.png\" width=\"300\" alt=\"cognitiveclass.ai logo\"  />\n",
    "</center>\n"
   ]
  },
  {
   "cell_type": "markdown",
   "id": "f70580f9",
   "metadata": {},
   "source": [
    "# My Jupyter Notebook on IBM Watson Studio"
   ]
  },
  {
   "cell_type": "markdown",
   "id": "805ab907",
   "metadata": {},
   "source": [
    "**Daivik Mohan**    \n",
    "Data Analyst"
   ]
  },
  {
   "cell_type": "markdown",
   "id": "5fa1df7f",
   "metadata": {},
   "source": [
    "*I am interested in data science because I love to analyse data and to get insights from it. It is a journey from nothing to eveything. It makes you create a story from raw data which help us deciding what and what not to do. It is the Future.*"
   ]
  },
  {
   "cell_type": "markdown",
   "id": "a24fb98a",
   "metadata": {},
   "source": [
    "### Below is the code written which solves 9+9*9/9-9, store in variable x and then print the output"
   ]
  },
  {
   "cell_type": "code",
   "execution_count": 1,
   "id": "3fcb8421",
   "metadata": {},
   "outputs": [
    {
     "name": "stdout",
     "output_type": "stream",
     "text": [
      "The value of x is:  9.0\n"
     ]
    }
   ],
   "source": [
    "x = 9+9*9/9-9\n",
    "print(\"The value of x is: \",x)"
   ]
  },
  {
   "cell_type": "markdown",
   "id": "911d3bfd",
   "metadata": {},
   "source": [
    "### Here i use:\n",
    "#### horizontal rule\n",
    "***\n",
    "* Bulleted List  \n",
    "1. Number List  \n",
    "\n",
    "[Hyperlink](https://www.coursera.org/)  \n",
    "\n",
    "~~Strike Through~~\n",
    "```python\n",
    "name = \"Python syntax highlighting\"\n",
    "print(name)\n",
    "```"
   ]
  }
 ],
 "metadata": {
  "kernelspec": {
   "display_name": "Python 3 (ipykernel)",
   "language": "python",
   "name": "python3"
  },
  "language_info": {
   "codemirror_mode": {
    "name": "ipython",
    "version": 3
   },
   "file_extension": ".py",
   "mimetype": "text/x-python",
   "name": "python",
   "nbconvert_exporter": "python",
   "pygments_lexer": "ipython3",
   "version": "3.9.12"
  }
 },
 "nbformat": 4,
 "nbformat_minor": 5
}
